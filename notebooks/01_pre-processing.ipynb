{
 "cells": [
  {
   "cell_type": "markdown",
   "metadata": {},
   "source": [
    "## Check length in each folder"
   ]
  },
  {
   "cell_type": "code",
   "execution_count": 1,
   "metadata": {},
   "outputs": [],
   "source": [
    "import os\n",
    "import numpy as np\n",
    "from tqdm import tqdm\n",
    "from PIL import Image\n",
    "import pillow_heif\n",
    "import sys\n",
    "\n",
    "# Get the project root\n",
    "project_root = os.path.abspath(\"..\")    # Go up one level from \"notebooks/\"\n",
    "sys.path.append(project_root)           # Add the root to the path\n",
    "\n",
    "from src.data.process_data import *"
   ]
  },
  {
   "cell_type": "code",
   "execution_count": 2,
   "metadata": {},
   "outputs": [
    {
     "name": "stdout",
     "output_type": "stream",
     "text": [
      "=================== Lenght: 25 ===================\n",
      "[-] armando_garcia - 195\n",
      "[-] armando_islas - 103\n",
      "[-] isaac_saenz - 180\n",
      "[-] jose_pina - 172\n",
      "[-] marlene_vazquez - 123\n",
      "[-] oscar_espinosa_berrueco - 199\n",
      "[-] rafael_diaz - 72\n",
      "[-] sergio_gutierrez - 131\n",
      "[-] uriel_martinez - 126\n"
     ]
    }
   ],
   "source": [
    "# --> Check length of the folders of the train, test and val\n",
    "\n",
    "# Get paths\n",
    "train_directory_path = os.path.join(os.getcwd(), '../', 'data', 'final', 'train')\n",
    "test_directory_path = os.path.join(os.getcwd(), '../', 'data', 'final', 'test')\n",
    "val_directory_path = os.path.join(os.getcwd(), '../', 'data', 'final', 'val')\n",
    "\n",
    "# Get folders\n",
    "train_folders = os.listdir(train_directory_path)\n",
    "test_folders = os.listdir(test_directory_path)\n",
    "val_folders = os.listdir(val_directory_path)\n",
    "\n",
    "# Dictionarys\n",
    "student_dict = {}\n",
    "student_dict_with_less_than_200 = {}\n",
    "\n",
    "for raw_folder in train_folders:\n",
    "    student_dict[raw_folder] = len(os.listdir(os.path.join(train_directory_path, raw_folder)))\n",
    "\n",
    "for raw_folder in test_folders:\n",
    "    student_dict[raw_folder] += len(os.listdir(os.path.join(test_directory_path, raw_folder)))\n",
    "\n",
    "for raw_folder in val_folders:\n",
    "    student_dict[raw_folder] += len(os.listdir(os.path.join(val_directory_path, raw_folder)))\n",
    "\n",
    "print(f\" Lenght: {len(student_dict)} \".center(50, \"=\"))\n",
    "for key, value in student_dict.items():\n",
    "    if value < 200:\n",
    "        student_dict_with_less_than_200[key] = value\n",
    "        print(f\"[-] {key} - {value}\")"
   ]
  },
  {
   "cell_type": "code",
   "execution_count": 3,
   "metadata": {},
   "outputs": [
    {
     "name": "stdout",
     "output_type": "stream",
     "text": [
      "============== Length of folders: 1 ==============\n"
     ]
    }
   ],
   "source": [
    "import shutil\n",
    "\n",
    "raw_directory_path = os.path.join(os.getcwd(), '../', 'data', 'raw')\n",
    "raw_folders = os.listdir(raw_directory_path)\n",
    "\n",
    "print(f\" Length of folders: {len(raw_folders)} \".center(50, \"=\"))\n",
    "\n",
    "for raw_folder in raw_folders:\n",
    "    folder_path = os.path.join(raw_directory_path, raw_folder)\n",
    "    images = os.listdir(folder_path)\n",
    "\n",
    "    if len(images) >= 200 and raw_folder in student_dict_with_less_than_200.keys():\n",
    "        print(f\"[+] Folder: {raw_folder} - {len(images)} images\")\n",
    "    else:\n",
    "        # remove the folder\n",
    "        try:\n",
    "            shutil.rmtree(folder_path)\n",
    "        except Exception as e:\n",
    "            print(f\"[+] Error: {e}\")"
   ]
  },
  {
   "cell_type": "markdown",
   "metadata": {},
   "source": [
    "## Change folders names"
   ]
  },
  {
   "cell_type": "code",
   "execution_count": 13,
   "metadata": {},
   "outputs": [],
   "source": [
    "# Get names of folders in the directory\n",
    "raw_directory_path = os.path.join(os.getcwd(), '../', 'data', 'raw')\n",
    "raw_folders = os.listdir(raw_directory_path)"
   ]
  },
  {
   "cell_type": "code",
   "execution_count": 14,
   "metadata": {},
   "outputs": [],
   "source": [
    "normalize_folders = [normalize_folder_name(folder) for folder in raw_folders]\n",
    "\n",
    "for raw_folder, new_folder in zip(raw_folders, normalize_folders):\n",
    "    os.rename(os.path.join(raw_directory_path, raw_folder), os.path.join(raw_directory_path, new_folder))"
   ]
  },
  {
   "cell_type": "markdown",
   "metadata": {},
   "source": [
    "## Check image format"
   ]
  },
  {
   "cell_type": "code",
   "execution_count": 15,
   "metadata": {},
   "outputs": [],
   "source": [
    "# Available image formats\n",
    "pillow_heif.register_heif_opener()\n",
    "\n",
    "# Get paths\n",
    "raw_directory_path = os.path.join(os.getcwd(), '../', 'data', 'raw')\n",
    "raw_folders = os.listdir(raw_directory_path)\n",
    "\n",
    "# Check image format in each folder\n",
    "for raw_folder in raw_folders:\n",
    "    folder_path = os.path.join(raw_directory_path, raw_folder)\n",
    "\n",
    "    # Skip if it's not a folder\n",
    "    if not os.path.isdir(folder_path):\n",
    "        continue\n",
    "\n",
    "    images = os.listdir(folder_path)\n",
    "    for image_name in images:\n",
    "        image_path = os.path.join(folder_path, image_name)\n",
    "        try:\n",
    "            with Image.open(image_path) as img:\n",
    "                pass\n",
    "                # print(f\"[+] Image '{image_name}' in folder '{folder}' is readable.\")\n",
    "        except Exception as e:\n",
    "            print(f\"[-] Failed to read image '{image_name}' in folder '{raw_folder}': {e}\")\n"
   ]
  },
  {
   "cell_type": "markdown",
   "metadata": {},
   "source": [
    "## Rename and rezise"
   ]
  },
  {
   "cell_type": "code",
   "execution_count": 16,
   "metadata": {},
   "outputs": [],
   "source": [
    "# Get names of folders in the directory\n",
    "\n",
    "raw_directory_path = os.path.join(os.getcwd(), '../', 'data', 'raw')\n",
    "folders_names = os.listdir(raw_directory_path)"
   ]
  },
  {
   "cell_type": "code",
   "execution_count": 17,
   "metadata": {},
   "outputs": [
    {
     "name": "stderr",
     "output_type": "stream",
     "text": [
      "===Procesando imágenes de galo_ayala====: 100%|██████████| 175/175 [00:32<00:00,  5.45it/s]\n",
      "===Procesando imágenes de yahir_arias===: 100%|██████████| 205/205 [00:10<00:00, 19.23it/s]\n"
     ]
    }
   ],
   "source": [
    "for raw_folder in folders_names:\n",
    "    # --> Read images in the folder\n",
    "    folder_path = os.path.join(raw_directory_path, raw_folder)\n",
    "    if not os.path.isdir(folder_path):\n",
    "        continue\n",
    "\n",
    "    images = os.listdir(folder_path)\n",
    "    counter = 1\n",
    "\n",
    "    for image in tqdm(images, desc=f\"Procesando imágenes de {raw_folder}\".center(40, \"=\")):\n",
    "        image_path = os.path.join(folder_path, image)\n",
    "        try:\n",
    "            # --> Open image\n",
    "            with Image.open(image_path) as img:\n",
    "\n",
    "                # --> Resize image\n",
    "                resized_img = resize_with_padding(img, 224)\n",
    "\n",
    "                # --> Define new name and path\n",
    "                new_name = f\"{raw_folder}_{counter}.jpg\"\n",
    "                new_path = os.path.join(folder_path, new_name)\n",
    "\n",
    "                # --> Save image\n",
    "                resized_img.save(new_path, \"JPEG\")\n",
    "\n",
    "            # --> Remove old image\n",
    "            if image != new_name:\n",
    "                os.remove(image_path)\n",
    "            counter += 1\n",
    "        except Exception as e:\n",
    "            print(f\"[-]Error en la imagen {image}: {e}\")"
   ]
  },
  {
   "cell_type": "markdown",
   "metadata": {},
   "source": [
    "## Split images into train and val"
   ]
  },
  {
   "cell_type": "code",
   "execution_count": 18,
   "metadata": {},
   "outputs": [
    {
     "name": "stderr",
     "output_type": "stream",
     "text": [
      "Enviando imágenes de yahir_arias: 100%|██████████| 2/2 [00:00<00:00,  4.83it/s]\n"
     ]
    }
   ],
   "source": [
    "from sklearn.model_selection import train_test_split\n",
    "\n",
    "for raw_folder in tqdm(raw_folders, desc=f\"Enviando imágenes de {raw_folder}\"):\n",
    "    folder_path = os.path.join(raw_directory_path, raw_folder)\n",
    "    images = os.listdir(folder_path)\n",
    "\n",
    "    # Split the images\n",
    "    train, temp = train_test_split(images, test_size=0.2, random_state=42)\n",
    "\n",
    "    # Split the temp into validation and test\n",
    "    val, test = train_test_split(temp, test_size=0.5, random_state=42)\n",
    "\n",
    "    # Create the path to train\n",
    "    train_path = os.path.join(os.getcwd(), '../', 'data', 'final', 'train', raw_folder)\n",
    "    os.makedirs(train_path, exist_ok=True)\n",
    "\n",
    "    # Create the path to validation\n",
    "    val_path = os.path.join(os.getcwd(), '../', 'data', 'final', 'val', raw_folder)\n",
    "    os.makedirs(val_path, exist_ok=True)\n",
    "\n",
    "    # Create the path to test\n",
    "    test_path = os.path.join(os.getcwd(), '../', 'data', 'final', 'test', raw_folder)\n",
    "    os.makedirs(test_path, exist_ok=True)\n",
    "\n",
    "    # Move the images to folder train\n",
    "    for image in train:\n",
    "        image_path = os.path.join(folder_path, image)\n",
    "        new_path = os.path.join(train_path, image)\n",
    "        os.rename(image_path, new_path)\n",
    "\n",
    "    # Move the images to folder val\n",
    "    for image in val:\n",
    "        image_path = os.path.join(folder_path, image)\n",
    "        new_path = os.path.join(val_path, image)\n",
    "        os.rename(image_path, new_path)\n",
    "\n",
    "    # Move the images to folder test\n",
    "    for image in test:\n",
    "        image_path = os.path.join(folder_path, image)\n",
    "        new_path = os.path.join(test_path, image)\n",
    "        os.rename(image_path, new_path)\n",
    "\n",
    "    # Delete the folder\n",
    "    os.rmdir(folder_path)"
   ]
  },
  {
   "cell_type": "code",
   "execution_count": 19,
   "metadata": {},
   "outputs": [
    {
     "name": "stdout",
     "output_type": "stream",
     "text": [
      "============[+] Length of folders: 28=============\n",
      "Train - alexia_cruces: 168 images\n",
      "Train - armando_garcia: 156 images\n",
      "Train - armando_islas: 82 images\n",
      "Train - carlos_aguilar: 160 images\n",
      "Train - cinthya_sanchez: 161 images\n",
      "Train - daniela_flores: 160 images\n",
      "Train - diego_rodriguez: 162 images\n",
      "Train - ernesto_rosales: 161 images\n",
      "Train - evelyn_escudero: 162 images\n",
      "Train - fernando_carmona: 164 images\n",
      "Train - galo_ayala: 140 images\n",
      "Train - gerardo_martinez: 160 images\n",
      "Train - isaac_saenz: 144 images\n",
      "Train - ismael_arista: 180 images\n",
      "Train - jessica_juarez: 160 images\n",
      "Train - jesus_soria: 160 images\n",
      "Train - jorge_orozco: 160 images\n",
      "Train - jose_pina: 137 images\n",
      "Train - marlene_vazquez: 98 images\n",
      "Train - mauricio_cortes: 160 images\n",
      "Train - natalia_anaya: 160 images\n",
      "Train - oscar_espinosa_berrueco: 159 images\n",
      "Train - rafael_diaz: 57 images\n",
      "Train - romario_reyes: 160 images\n",
      "Train - santiago_barranco: 160 images\n",
      "Train - sergio_gutierrez: 104 images\n",
      "Train - uriel_martinez: 100 images\n",
      "Train - yahir_arias: 164 images\n"
     ]
    }
   ],
   "source": [
    "# See distribution of images in each folder\n",
    "test_path = os.path.join(os.getcwd(), '../', 'data', 'final', 'test')\n",
    "train_path = os.path.join(os.getcwd(), '../', 'data', 'final', 'train')\n",
    "val_path = os.path.join(os.getcwd(), '../', 'data', 'final', 'val')\n",
    "\n",
    "test_folders = os.listdir(test_path)\n",
    "train_folders = os.listdir(train_path)\n",
    "val_folders = os.listdir(val_path)\n",
    "\n",
    "print(f\"[+] Length of folders: {len(train_folders)}\".center(50, \"=\"))\n",
    "for raw_folder in train_folders:\n",
    "    folder_path = os.path.join(train_path, raw_folder)\n",
    "    images = os.listdir(folder_path)\n",
    "    print(f\"Train - {raw_folder}: {len(images)} images\")"
   ]
  },
  {
   "cell_type": "code",
   "execution_count": 20,
   "metadata": {},
   "outputs": [
    {
     "name": "stdout",
     "output_type": "stream",
     "text": [
      "Test - alexia_cruces: 22 images\n",
      "Test - armando_garcia: 20 images\n",
      "Test - armando_islas: 11 images\n",
      "Test - carlos_aguilar: 20 images\n",
      "Test - cinthya_sanchez: 21 images\n",
      "Test - daniela_flores: 21 images\n",
      "Test - diego_rodriguez: 21 images\n",
      "Test - ernesto_rosales: 21 images\n",
      "Test - evelyn_escudero: 21 images\n",
      "Test - fernando_carmona: 21 images\n",
      "Test - galo_ayala: 18 images\n",
      "Test - gerardo_martinez: 20 images\n",
      "Test - isaac_saenz: 18 images\n",
      "Test - ismael_arista: 23 images\n",
      "Test - jessica_juarez: 20 images\n",
      "Test - jesus_soria: 20 images\n",
      "Test - jorge_orozco: 20 images\n",
      "Test - jose_pina: 18 images\n",
      "Test - marlene_vazquez: 13 images\n",
      "Test - mauricio_cortes: 21 images\n",
      "Test - natalia_anaya: 21 images\n",
      "Test - oscar_espinosa_berrueco: 20 images\n",
      "Test - rafael_diaz: 8 images\n",
      "Test - romario_reyes: 20 images\n",
      "Test - santiago_barranco: 20 images\n",
      "Test - sergio_gutierrez: 14 images\n",
      "Test - uriel_martinez: 13 images\n",
      "Test - yahir_arias: 21 images\n"
     ]
    }
   ],
   "source": [
    "for raw_folder in test_folders:\n",
    "    folder_path = os.path.join(test_path, raw_folder)\n",
    "    images = os.listdir(folder_path)\n",
    "    print(f\"Test - {raw_folder}: {len(images)} images\")"
   ]
  },
  {
   "cell_type": "code",
   "execution_count": 21,
   "metadata": {},
   "outputs": [
    {
     "name": "stdout",
     "output_type": "stream",
     "text": [
      "Val - alexia_cruces: 21 images\n",
      "Val - armando_garcia: 19 images\n",
      "Val - armando_islas: 10 images\n",
      "Val - carlos_aguilar: 20 images\n",
      "Val - cinthya_sanchez: 20 images\n",
      "Val - daniela_flores: 20 images\n",
      "Val - diego_rodriguez: 20 images\n",
      "Val - ernesto_rosales: 20 images\n",
      "Val - evelyn_escudero: 20 images\n",
      "Val - fernando_carmona: 21 images\n",
      "Val - galo_ayala: 17 images\n",
      "Val - gerardo_martinez: 20 images\n",
      "Val - isaac_saenz: 18 images\n",
      "Val - ismael_arista: 23 images\n",
      "Val - jessica_juarez: 20 images\n",
      "Val - jesus_soria: 20 images\n",
      "Val - jorge_orozco: 20 images\n",
      "Val - jose_pina: 17 images\n",
      "Val - marlene_vazquez: 12 images\n",
      "Val - mauricio_cortes: 20 images\n",
      "Val - natalia_anaya: 20 images\n",
      "Val - oscar_espinosa_berrueco: 20 images\n",
      "Val - rafael_diaz: 7 images\n",
      "Val - romario_reyes: 20 images\n",
      "Val - santiago_barranco: 20 images\n",
      "Val - sergio_gutierrez: 13 images\n",
      "Val - uriel_martinez: 13 images\n",
      "Val - yahir_arias: 20 images\n"
     ]
    }
   ],
   "source": [
    "for raw_folder in val_folders:\n",
    "    folder_path = os.path.join(val_path, raw_folder)\n",
    "    images = os.listdir(folder_path)\n",
    "    print(f\"Val - {raw_folder}: {len(images)} images\")"
   ]
  }
 ],
 "metadata": {
  "kernelspec": {
   "display_name": "venv",
   "language": "python",
   "name": "python3"
  },
  "language_info": {
   "codemirror_mode": {
    "name": "ipython",
    "version": 3
   },
   "file_extension": ".py",
   "mimetype": "text/x-python",
   "name": "python",
   "nbconvert_exporter": "python",
   "pygments_lexer": "ipython3",
   "version": "3.12.0"
  }
 },
 "nbformat": 4,
 "nbformat_minor": 2
}
